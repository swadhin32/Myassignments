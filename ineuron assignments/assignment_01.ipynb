{
 "cells": [
  {
   "cell_type": "markdown",
   "id": "5a5e68c9",
   "metadata": {},
   "source": [
    "1. In the below elements which of them are values or an expression? eg:- values can be integer or string and expressions will be mathematical operators.\n",
    "*,'hello', -87.8,-,/,+,6\n",
    "\n",
    "Ans: There are a total of 4 Operators and 3 Expressions, They are:\n",
    "Operators: *,-,/,+\n",
    "Expressions: 'hello', 87.8, 6"
   ]
  },
  {
   "cell_type": "markdown",
   "id": "b0eafc66",
   "metadata": {},
   "source": [
    "2. What is the difference between string and variable?\n",
    "\n",
    "Ans: A Variable is used to store of information, and a String is a type of information you would store in a Variable. A String is a group of characters or a single character usually enclosed in Double quotes \" \" or single quotes ' '"
   ]
  },
  {
   "cell_type": "markdown",
   "id": "f2a391e7",
   "metadata": {},
   "source": [
    "3. Describe three different Data Types ?\n",
    "\n",
    "Ans: Three fundamental Data types in python are int, float, complex.<br>\n",
    "    1) int data type: We can use int data type to represent whole numbers (integral values)<br>\n",
    "    2) float data type: We can use float data type to represent floating point values (decimal values)<br>\n",
    "    3) complex data type: Complex number is represented by complex class. It is specified as (real part) + (imaginary part)j."
   ]
  },
  {
   "cell_type": "code",
   "execution_count": 1,
   "id": "28d4cbe8",
   "metadata": {},
   "outputs": [
    {
     "name": "stdout",
     "output_type": "stream",
     "text": [
      "4567 <class 'int'>\n",
      "1200.0 <class 'float'>\n",
      "(10+1.5j) <class 'complex'>\n"
     ]
    }
   ],
   "source": [
    "# Example for int data type\n",
    "num=4567\n",
    "print(num, type(num))\n",
    "# Example for float data type\n",
    "num=1.2e3\n",
    "print(num, type(num))\n",
    "# Example for Complex data type\n",
    "num=10+1.5j\n",
    "print(num, type(num))"
   ]
  },
  {
   "cell_type": "markdown",
   "id": "53caeeb0",
   "metadata": {},
   "source": [
    "4. What is an expression made up of? What do all expressions do?<br>\n",
    "Ans: An expression is a combination of values, variables, operators, and calls to functions. Expressions need to be evaluated. If we ask Python to print an expression, the interpreter evaluates the expression and displays the result."
   ]
  },
  {
   "cell_type": "code",
   "execution_count": 2,
   "id": "f9ab043c",
   "metadata": {},
   "outputs": [
    {
     "data": {
      "text/plain": [
       "0"
      ]
     },
     "execution_count": 2,
     "metadata": {},
     "output_type": "execute_result"
    }
   ],
   "source": [
    "4*5+20-40 # Is an Expression, The Python Interpreter Evaluates it to 0"
   ]
  },
  {
   "cell_type": "markdown",
   "id": "d1edd843",
   "metadata": {},
   "source": [
    "5.This assignment statements, like spam = 10. What is the difference between an expression and a statement?<br>\n",
    "Ans: An expression is a combination of values, variables, and operators.When we type an expression at the prompt, the interpreter evaluates it, which means that it finds the value of the expression.\n",
    "\n",
    "eg: 4*5+20-40 is an example of a statement\n",
    "\n",
    "A statement is a unit of code that has an effect, like creating a variable or displaying a value.When we type a statement, the interpreter executes it, which means that it does whatever the statement says. In general, statements don’t have values.\n",
    "\n",
    "eg: variable declaration and assignment are statements because they do not return a value"
   ]
  },
  {
   "cell_type": "code",
   "execution_count": 3,
   "id": "a00bee68",
   "metadata": {},
   "outputs": [
    {
     "name": "stdout",
     "output_type": "stream",
     "text": [
      "Hello World !\n"
     ]
    }
   ],
   "source": [
    "#Example:\n",
    "4*5+20-40 # Is a Expression\n",
    "courseName = 'INeuron FullStack DataScience' # Is a Statement\n",
    "print(\"Hello World !\") # Is a Expression Statement"
   ]
  },
  {
   "cell_type": "markdown",
   "id": "149c2b72",
   "metadata": {},
   "source": [
    "6.After running the following code, what does the variable bacon contain?\n",
    "bacon = 22\n",
    "bacon + 1\n",
    "\n",
    "Ans: The variable bacon is set to 22 .The expression bacon + 1 does not reassign the value in bacon (that would the case if the expression is like bacon = bacon + 1 instead of bacon + 1)"
   ]
  },
  {
   "cell_type": "code",
   "execution_count": 5,
   "id": "82238222",
   "metadata": {},
   "outputs": [
    {
     "name": "stdout",
     "output_type": "stream",
     "text": [
      "22\n"
     ]
    }
   ],
   "source": [
    "# Example Case#1\n",
    "bacon=22\n",
    "bacon+1\n",
    "print(bacon)"
   ]
  },
  {
   "cell_type": "code",
   "execution_count": 6,
   "id": "c1eb4384",
   "metadata": {},
   "outputs": [
    {
     "name": "stdout",
     "output_type": "stream",
     "text": [
      "23\n"
     ]
    }
   ],
   "source": [
    "#Example Case#2\n",
    "bacon=22\n",
    "bacon=bacon+1 \n",
    "print(bacon)"
   ]
  },
  {
   "cell_type": "code",
   "execution_count": 7,
   "id": "86d9edab",
   "metadata": {},
   "outputs": [
    {
     "data": {
      "text/plain": [
       "'spamspamspam'"
      ]
     },
     "execution_count": 7,
     "metadata": {},
     "output_type": "execute_result"
    }
   ],
   "source": [
    "'spam'+'spamspam'"
   ]
  },
  {
   "cell_type": "code",
   "execution_count": 8,
   "id": "802897a7",
   "metadata": {},
   "outputs": [
    {
     "data": {
      "text/plain": [
       "'spamspamspam'"
      ]
     },
     "execution_count": 8,
     "metadata": {},
     "output_type": "execute_result"
    }
   ],
   "source": [
    "'spam'*3"
   ]
  },
  {
   "cell_type": "markdown",
   "id": "23349489",
   "metadata": {},
   "source": [
    "8. Why is eggs a valid variable name while 100 is invalid?"
   ]
  },
  {
   "cell_type": "markdown",
   "id": "a4357805",
   "metadata": {},
   "source": [
    "Ans: As per python,Variable names cannot begin with a number. The python rules for naming a variable are :-\n",
    "\n",
    "Variable name must start with a letter or the underscore character.\n",
    "Variable name cannot start with a number.\n",
    "Variable name can only contain alpha-numeric characters and underscores (A-z, 0-9, & _ ).\n",
    "Variable names are case-sensitive (name, INEURON and ineuron are three different variables).\n",
    "The reserved words(keywords) cannot be used naming the variable."
   ]
  },
  {
   "cell_type": "markdown",
   "id": "7b627726",
   "metadata": {},
   "source": [
    "9.What three functions can be used to get the integer,floating-point number,or string version of a value?<br>\n",
    "Ans: The int(),float(),and str() functions will evaluate to the integer,floating-point number,string version of the value passed to them."
   ]
  },
  {
   "cell_type": "markdown",
   "id": "b0ea4d39",
   "metadata": {},
   "source": [
    "10.Why does this expression cause an error? how can you fix it?<br>\n",
    "'I have eaten ' + 99 + 'burritos.'\n",
    "\n",
    "Ans: This cause of error is 99.because 99 is not a string. 99 must be typecasted to a string to fix this error. the correct way is:<br>\n",
    "Input: 'I have eaten ' + str(99) + 'burritos.'<br>\n",
    "Output: 'I have eaten 99 burritos.'"
   ]
  },
  {
   "cell_type": "code",
   "execution_count": 10,
   "id": "57061f33",
   "metadata": {},
   "outputs": [
    {
     "name": "stdout",
     "output_type": "stream",
     "text": [
      "I have eaten 99 burritos\n"
     ]
    }
   ],
   "source": [
    "print('I have eaten '+str(99)+' burritos')"
   ]
  },
  {
   "cell_type": "code",
   "execution_count": null,
   "id": "85617eaf",
   "metadata": {},
   "outputs": [],
   "source": []
  }
 ],
 "metadata": {
  "kernelspec": {
   "display_name": "Python 3 (ipykernel)",
   "language": "python",
   "name": "python3"
  },
  "language_info": {
   "codemirror_mode": {
    "name": "ipython",
    "version": 3
   },
   "file_extension": ".py",
   "mimetype": "text/x-python",
   "name": "python",
   "nbconvert_exporter": "python",
   "pygments_lexer": "ipython3",
   "version": "3.8.0"
  }
 },
 "nbformat": 4,
 "nbformat_minor": 5
}
