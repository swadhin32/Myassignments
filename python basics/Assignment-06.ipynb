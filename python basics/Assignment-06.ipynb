{
 "cells": [
  {
   "cell_type": "markdown",
   "id": "e0dd5acd",
   "metadata": {},
   "source": [
    "#### 1.What are Escape characters ? and how do you use them ?\n",
    "**Ans:** Escape characters represent characters in string values that would otherwise be difficult or impossible to type into code. we can use the backslash `character` to escape a single character or symbol  \n",
    "**example:** `\\t, \\n`\n"
   ]
  },
  {
   "cell_type": "markdown",
   "id": "8b554eeb",
   "metadata": {},
   "source": [
    "#### 2.What do the escape characters n and t stand for ?\n",
    "**Ans:** `\\n` is a newline, `\\t` is a tab"
   ]
  },
  {
   "cell_type": "markdown",
   "id": "3f9442a7",
   "metadata": {},
   "source": [
    "#### 3.What is the way to include backslash character in a string?\n",
    "**Ans:** The `\\\\` escape character will represent the backslash character in a string"
   ]
  },
  {
   "cell_type": "code",
   "execution_count": 10,
   "id": "52058159",
   "metadata": {},
   "outputs": [
    {
     "ename": "SyntaxError",
     "evalue": "EOL while scanning string literal (2738515311.py, line 1)",
     "output_type": "error",
     "traceback": [
      "\u001b[1;36m  Input \u001b[1;32mIn [10]\u001b[1;36m\u001b[0m\n\u001b[1;33m    print(\"we can't represent direct \\\")\u001b[0m\n\u001b[1;37m                                        ^\u001b[0m\n\u001b[1;31mSyntaxError\u001b[0m\u001b[1;31m:\u001b[0m EOL while scanning string literal\n"
     ]
    }
   ],
   "source": [
    "print(\"we can't represent direct \\\")"
   ]
  },
  {
   "cell_type": "code",
   "execution_count": 11,
   "id": "bc94dcfa",
   "metadata": {},
   "outputs": [
    {
     "name": "stdout",
     "output_type": "stream",
     "text": [
      "we can include only by double slash \\\n"
     ]
    }
   ],
   "source": [
    "print(\"we can include only by double slash \\\\\")    "
   ]
  },
  {
   "cell_type": "markdown",
   "id": "fb311ae9",
   "metadata": {},
   "source": [
    "#### 4.The string \"Howl's Moving Castle\" is a correct value. Why isn't the single quote character in the word Howl's not escaped a problem ?\n",
    "**Ans:** The string `\"Howl's Moving Castle\"` escaped the problem because it is wrapped inside double quotes. if its wrapped inside single quotes then we have to use escape character `\\'` to show single quote in the final output  \n",
    "`'Howl\\'s Moving Castle'` **`->`** `'Howl's Moving Castle'`"
   ]
  },
  {
   "cell_type": "code",
   "execution_count": 5,
   "id": "3a094096",
   "metadata": {},
   "outputs": [
    {
     "name": "stdout",
     "output_type": "stream",
     "text": [
      "Howl's Moving Castle\n"
     ]
    }
   ],
   "source": [
    "print('Howl\\'s Moving Castle')"
   ]
  },
  {
   "cell_type": "code",
   "execution_count": 6,
   "id": "dd88efbe",
   "metadata": {},
   "outputs": [
    {
     "ename": "SyntaxError",
     "evalue": "invalid syntax (2399584445.py, line 1)",
     "output_type": "error",
     "traceback": [
      "\u001b[1;36m  Input \u001b[1;32mIn [6]\u001b[1;36m\u001b[0m\n\u001b[1;33m    print('Howl's Moving Castle')\u001b[0m\n\u001b[1;37m                ^\u001b[0m\n\u001b[1;31mSyntaxError\u001b[0m\u001b[1;31m:\u001b[0m invalid syntax\n"
     ]
    }
   ],
   "source": [
    "print('Howl's Moving Castle')"
   ]
  },
  {
   "cell_type": "markdown",
   "id": "747e3999",
   "metadata": {},
   "source": [
    "#### 5.How do you write a string of newlines if you don't want to use the n character?   ### IMP\n",
    "**Ans:**  Multiline string allow you to use newlines in string without the `\\n` escape character  "
   ]
  },
  {
   "cell_type": "code",
   "execution_count": 12,
   "id": "c963c031",
   "metadata": {},
   "outputs": [
    {
     "name": "stdout",
     "output_type": "stream",
     "text": [
      "iNeuron full stack\n",
      "Data Science Course\n"
     ]
    }
   ],
   "source": [
    "# Example:\n",
    "a = '''iNeuron full stack\n",
    "Data Science Course'''\n",
    "print(a)"
   ]
  },
  {
   "cell_type": "markdown",
   "id": "01a98c49",
   "metadata": {},
   "source": [
    "#### 6.What are the values of the given expressions ?\n",
    "'Hello, world!'[1]  \n",
    "'Hello, world!'[0:5]  \n",
    "'Hello, world!'[:5]  \n",
    "'Hello, world!'[3:]  "
   ]
  },
  {
   "cell_type": "markdown",
   "id": "4da7bcb0",
   "metadata": {},
   "source": [
    "**Ans:** The values for the given expressions are:  \n",
    "'Hello, world!'[1] **`->`**  `'e'`  \n",
    "'Hello, world!'[0:5] **`->`**  `'Hello'`  \n",
    "'Hello, world!'[:5] **`->`**  `'Hello'`  \n",
    "'Hello, world!'[3:] **`->`**  `'lo, world!'`"
   ]
  },
  {
   "cell_type": "markdown",
   "id": "6360f7f2",
   "metadata": {},
   "source": [
    "#### 7.What are the values of the following expressions ?\n",
    "'Hello'.upper()  \n",
    "'Hello'.upper().isupper()  \n",
    "'Hello'.upper().lower()    \n",
    "\n",
    "**Ans:** The values for the given expressions are:  \n",
    "'Hello'.upper() **`->`** `'HELLO'`  \n",
    "'Hello'.upper().isupper() **`->`**  `True`    \n",
    "'Hello'.upper().lower() **`->`** `'hello'`  "
   ]
  },
  {
   "cell_type": "markdown",
   "id": "fc56c45c",
   "metadata": {},
   "source": [
    "#### 8.What are the values of the following expressions ?\n",
    "'Remember, remember, the fifith of July.'.split()  \n",
    "-'.join('There can only one'.split())\n",
    "\n",
    "**Ans:** The values for the given expressions are:  \n",
    "'Remember, remember, the fifith of July.'.split()  **`->`** `['Remember,', 'remember,', 'the', 'fifith', 'of', 'July.']`  \n",
    "'-'.join('There can only one'.split()) **`->`** `'There-can-only-one'` "
   ]
  },
  {
   "cell_type": "code",
   "execution_count": 14,
   "id": "bd3c005d",
   "metadata": {},
   "outputs": [
    {
     "data": {
      "text/plain": [
       "['Remember,', 'remember,', 'the', 'fifith', 'of', 'July.']"
      ]
     },
     "execution_count": 14,
     "metadata": {},
     "output_type": "execute_result"
    }
   ],
   "source": [
    "'Remember, remember, the fifith of July.'.split()  "
   ]
  },
  {
   "cell_type": "code",
   "execution_count": 16,
   "id": "139fab66",
   "metadata": {},
   "outputs": [
    {
     "data": {
      "text/plain": [
       "'There-can-only-one'"
      ]
     },
     "execution_count": 16,
     "metadata": {},
     "output_type": "execute_result"
    }
   ],
   "source": [
    "'-'.join('There can only one'.split())"
   ]
  },
  {
   "cell_type": "markdown",
   "id": "863c29fd",
   "metadata": {},
   "source": [
    "#### 9.What are the methods for right-justifying, left-justifying and centering a string ?\n",
    "**Ans:** The `rjust()`,`ljust()`,`center()` string methods, respectively"
   ]
  },
  {
   "cell_type": "markdown",
   "id": "ad1f816f",
   "metadata": {},
   "source": [
    "#### 10.What is the best way to remove whitespace characters from the start or end ?\n",
    "**Ans:** The `lstrip()` and `rstrip()` methods remove whitesapce characters from the left and right ends of a string respectively"
   ]
  },
  {
   "cell_type": "code",
   "execution_count": null,
   "id": "4a2c2203",
   "metadata": {},
   "outputs": [],
   "source": []
  }
 ],
 "metadata": {
  "kernelspec": {
   "display_name": "Python 3 (ipykernel)",
   "language": "python",
   "name": "python3"
  },
  "language_info": {
   "codemirror_mode": {
    "name": "ipython",
    "version": 3
   },
   "file_extension": ".py",
   "mimetype": "text/x-python",
   "name": "python",
   "nbconvert_exporter": "python",
   "pygments_lexer": "ipython3",
   "version": "3.8.0"
  }
 },
 "nbformat": 4,
 "nbformat_minor": 5
}
