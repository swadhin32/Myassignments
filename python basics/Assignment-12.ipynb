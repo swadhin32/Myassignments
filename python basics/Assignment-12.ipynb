{
 "cells": [
  {
   "cell_type": "markdown",
   "id": "b95a31a5",
   "metadata": {},
   "source": [
    "#### 1. In what modes should the PdfFileReader() and PdfFileWriter() File objects will be opened?\n",
    "**Ans:** For **`PdfFileReader()`** file objects should be opened in **`rb`** -> read binary mode, Whereas for **`PdfFileWriter()`** file objects should be opened in **`wb`** -> write binary mode."
   ]
  },
  {
   "cell_type": "markdown",
   "id": "170d95f6",
   "metadata": {},
   "source": [
    "#### 2. From a PdfFileReader object, how do you get a Page object for page 5?\n",
    "**Ans:** **`PdfFileReader`** class provides a method called **`getPage(page_no)`** to get a page object."
   ]
  },
  {
   "cell_type": "code",
   "execution_count": 23,
   "id": "3ef16d3d",
   "metadata": {},
   "outputs": [],
   "source": [
    "# Example Code:\n",
    "from PyPDF2 import PdfFileReader\n",
    "pdf_reader = PdfFileReader('ml_tutorialpoint.pdf')\n",
    "page5=pdf_reader.getPage(5)"
   ]
  },
  {
   "cell_type": "markdown",
   "id": "43aa97f3",
   "metadata": {},
   "source": [
    "#### 3. What PdfFileReader variable stores the number of pages in the PDF document?\n",
    "**Ans:** **`getNumPages()`** method of **`PdfFileReader`** class stores the no pages in a PDF document"
   ]
  },
  {
   "cell_type": "code",
   "execution_count": 24,
   "id": "1d67925d",
   "metadata": {},
   "outputs": [
    {
     "name": "stdout",
     "output_type": "stream",
     "text": [
      "35\n"
     ]
    }
   ],
   "source": [
    "#Example Code:\n",
    "from PyPDF2 import PdfFileReader\n",
    "pdf_reader = PdfFileReader('ml_tutorialpoint.pdf')\n",
    "print(pdf_reader.getNumPages()) # Prints the no of pages in a input document"
   ]
  },
  {
   "cell_type": "markdown",
   "id": "b7842186",
   "metadata": {},
   "source": [
    "#### 4. If a PdfFileReader object’s PDF is encrypted with the password swordfish, what must you do before you can obtain Page objects from it?\n",
    "**Ans:** If a **`PdfFileReader`** object’s PDF is encrypted with the password **`swordfish`** and you're not aware of it. first read the Pdf using the PdfFileReader Class. PdfFileReader class provides a attribute called **`isEncrypted`** to check whether a pdf is encrypted or not. the method returns true if a pdf is encrypted and vice versa.  \n",
    "if pdf is encrypted use the **`decrypt()`** method provided by PdfFileReader class first then try to read the contents/pages of the pdf, else PyPDF2 will raise the following error **`PyPDF2.utils.PdfReadError: file has not been decrypted`**"
   ]
  },
  {
   "cell_type": "markdown",
   "id": "5cd8c1c6",
   "metadata": {},
   "source": [
    "#Example Code:\n",
    "from PyPDF2 import PdfFileReader\n",
    "pdf_reader = PdfFileReader('myresume.pdf')\n",
    "if pdf_reader.isEncrypted: # to check whether the pdf is encrypted or not\n",
    "    pdf_reader.decrypt(\"swordfish\")\n",
    "for page in pdf_reader.pages:\n",
    "    print(page.extractText()) # to print the text data of a page from pdf"
   ]
  },
  {
   "cell_type": "markdown",
   "id": "02c354b3",
   "metadata": {},
   "source": [
    "#### 5. What methods do you use to rotate a page?\n",
    "**Ans:** PyPDF2 Package provides 2 methods to rotate a page:\n",
    "1. **`rotateClockWise()`** -> For Clockwise rotation\n",
    "2. **`rotateCounterClockWise()`** -> For Counter Clockwise rotation  \n",
    "\n",
    "The PyPDF2 package only allows you to rotate a page in increments of 90 degrees. You will receive an AssertionError otherwise."
   ]
  },
  {
   "cell_type": "markdown",
   "id": "35881458",
   "metadata": {},
   "source": [
    "#### 6. What is the difference between a Run object and a Paragraph object?\n",
    "**Ans:** The structure of a document is represented by three different data types in **`python-Docx`**. At the highest level, a `Document` object represents the entire document. The Document object contains a list of **`Paragraph`** objects for the paragraphs in the document. (A new paragraph begins whenever the user presses `ENTER` or `RETURN` while typing in a Word document.) Each of these Paragraph objects contains a list of one or more **`Run`** objects.\n",
    "\n",
    "The text in a Word document is more than just a string. It has font, size, color, and other styling information associated with it. A style in Word is a collection of these attributes. A Run object is a contiguous run of text with the same style. A new Run object is needed whenever the text style changes."
   ]
  },
  {
   "cell_type": "markdown",
   "id": "0c363731",
   "metadata": {},
   "source": [
    "#### 7. How do you obtain a list of Paragraph objects for a Document object that’s stored in a variable named doc?"
   ]
  },
  {
   "cell_type": "code",
   "execution_count": 42,
   "id": "ef679ac7",
   "metadata": {},
   "outputs": [
    {
     "name": "stdout",
     "output_type": "stream",
     "text": [
      "[<docx.text.paragraph.Paragraph object at 0x0000011601FE1130>, <docx.text.paragraph.Paragraph object at 0x0000011601FE1310>, <docx.text.paragraph.Paragraph object at 0x0000011601FE11C0>, <docx.text.paragraph.Paragraph object at 0x0000011601FE13D0>, <docx.text.paragraph.Paragraph object at 0x0000011601FE1220>, <docx.text.paragraph.Paragraph object at 0x0000011601FE1460>, <docx.text.paragraph.Paragraph object at 0x0000011601FE14C0>, <docx.text.paragraph.Paragraph object at 0x0000011601FE1520>, <docx.text.paragraph.Paragraph object at 0x0000011601FE1610>, <docx.text.paragraph.Paragraph object at 0x0000011601FE15E0>, <docx.text.paragraph.Paragraph object at 0x0000011601FE16D0>, <docx.text.paragraph.Paragraph object at 0x0000011601FE1670>, <docx.text.paragraph.Paragraph object at 0x0000011601FE1730>, <docx.text.paragraph.Paragraph object at 0x0000011601FE1760>, <docx.text.paragraph.Paragraph object at 0x0000011601FE1850>, <docx.text.paragraph.Paragraph object at 0x0000011601FE17F0>, <docx.text.paragraph.Paragraph object at 0x0000011601FE1910>, <docx.text.paragraph.Paragraph object at 0x0000011601FE18B0>, <docx.text.paragraph.Paragraph object at 0x0000011601FE19D0>, <docx.text.paragraph.Paragraph object at 0x0000011601FE1970>, <docx.text.paragraph.Paragraph object at 0x0000011601FE1550>, <docx.text.paragraph.Paragraph object at 0x0000011601FE1280>, <docx.text.paragraph.Paragraph object at 0x0000011601FE1100>, <docx.text.paragraph.Paragraph object at 0x0000011601FE11F0>, <docx.text.paragraph.Paragraph object at 0x0000011608CD4340>, <docx.text.paragraph.Paragraph object at 0x0000011608CD43A0>, <docx.text.paragraph.Paragraph object at 0x0000011608CD4400>, <docx.text.paragraph.Paragraph object at 0x0000011608CD4460>, <docx.text.paragraph.Paragraph object at 0x0000011608CD44C0>, <docx.text.paragraph.Paragraph object at 0x0000011608CD4520>, <docx.text.paragraph.Paragraph object at 0x0000011608CD4580>, <docx.text.paragraph.Paragraph object at 0x0000011608CD45E0>, <docx.text.paragraph.Paragraph object at 0x0000011608CD4640>, <docx.text.paragraph.Paragraph object at 0x0000011608CD46A0>, <docx.text.paragraph.Paragraph object at 0x0000011608CD4700>, <docx.text.paragraph.Paragraph object at 0x0000011608CD4760>, <docx.text.paragraph.Paragraph object at 0x0000011608CD47C0>, <docx.text.paragraph.Paragraph object at 0x0000011608CD4820>, <docx.text.paragraph.Paragraph object at 0x0000011608CD4880>, <docx.text.paragraph.Paragraph object at 0x0000011608CD48E0>, <docx.text.paragraph.Paragraph object at 0x0000011608CD4940>, <docx.text.paragraph.Paragraph object at 0x0000011608CD49A0>, <docx.text.paragraph.Paragraph object at 0x0000011608CD4A00>, <docx.text.paragraph.Paragraph object at 0x0000011608CD4A60>, <docx.text.paragraph.Paragraph object at 0x0000011608CD4AC0>, <docx.text.paragraph.Paragraph object at 0x0000011608CD4B20>, <docx.text.paragraph.Paragraph object at 0x0000011608CD4B80>, <docx.text.paragraph.Paragraph object at 0x0000011608CD4BE0>, <docx.text.paragraph.Paragraph object at 0x0000011608CD4C40>, <docx.text.paragraph.Paragraph object at 0x0000011608CD4CA0>, <docx.text.paragraph.Paragraph object at 0x0000011608CD4D00>, <docx.text.paragraph.Paragraph object at 0x0000011608CD4D60>, <docx.text.paragraph.Paragraph object at 0x0000011608CD4DC0>, <docx.text.paragraph.Paragraph object at 0x0000011608CD4E20>, <docx.text.paragraph.Paragraph object at 0x0000011608CD4E80>, <docx.text.paragraph.Paragraph object at 0x0000011608CD4EE0>, <docx.text.paragraph.Paragraph object at 0x0000011608CD4F40>, <docx.text.paragraph.Paragraph object at 0x0000011608CD4FA0>, <docx.text.paragraph.Paragraph object at 0x0000011608CDF040>, <docx.text.paragraph.Paragraph object at 0x0000011608CDF0A0>, <docx.text.paragraph.Paragraph object at 0x0000011608CDF100>, <docx.text.paragraph.Paragraph object at 0x0000011608CDF160>, <docx.text.paragraph.Paragraph object at 0x0000011608CDF1C0>, <docx.text.paragraph.Paragraph object at 0x0000011608CDF220>, <docx.text.paragraph.Paragraph object at 0x0000011608CDF280>, <docx.text.paragraph.Paragraph object at 0x0000011608CDF2E0>, <docx.text.paragraph.Paragraph object at 0x0000011608CDF340>, <docx.text.paragraph.Paragraph object at 0x0000011608CDF3A0>, <docx.text.paragraph.Paragraph object at 0x0000011608CDF400>, <docx.text.paragraph.Paragraph object at 0x0000011608CDF460>, <docx.text.paragraph.Paragraph object at 0x0000011608CDF4C0>, <docx.text.paragraph.Paragraph object at 0x0000011608CDF520>, <docx.text.paragraph.Paragraph object at 0x0000011608CDF580>, <docx.text.paragraph.Paragraph object at 0x0000011608CDF5E0>, <docx.text.paragraph.Paragraph object at 0x0000011608CDF640>, <docx.text.paragraph.Paragraph object at 0x0000011608CDF6A0>, <docx.text.paragraph.Paragraph object at 0x0000011608CDF700>, <docx.text.paragraph.Paragraph object at 0x0000011608CDF760>, <docx.text.paragraph.Paragraph object at 0x0000011608CDF7C0>, <docx.text.paragraph.Paragraph object at 0x0000011608CDF820>, <docx.text.paragraph.Paragraph object at 0x0000011608CDF880>, <docx.text.paragraph.Paragraph object at 0x0000011608CDF8E0>, <docx.text.paragraph.Paragraph object at 0x0000011608CDF940>, <docx.text.paragraph.Paragraph object at 0x0000011608CDF9A0>, <docx.text.paragraph.Paragraph object at 0x0000011608CDFA00>, <docx.text.paragraph.Paragraph object at 0x0000011608CDFA60>, <docx.text.paragraph.Paragraph object at 0x0000011608CDFAC0>, <docx.text.paragraph.Paragraph object at 0x0000011608CDFB20>, <docx.text.paragraph.Paragraph object at 0x0000011608CDFB80>, <docx.text.paragraph.Paragraph object at 0x0000011608CDFBE0>, <docx.text.paragraph.Paragraph object at 0x0000011608CDFC40>, <docx.text.paragraph.Paragraph object at 0x0000011608CDFCA0>, <docx.text.paragraph.Paragraph object at 0x0000011608CDFD00>, <docx.text.paragraph.Paragraph object at 0x0000011608CDFD60>, <docx.text.paragraph.Paragraph object at 0x0000011608CDFDC0>, <docx.text.paragraph.Paragraph object at 0x0000011608CDFE20>, <docx.text.paragraph.Paragraph object at 0x0000011608CDFE80>, <docx.text.paragraph.Paragraph object at 0x0000011608CDFEE0>, <docx.text.paragraph.Paragraph object at 0x0000011608CDFF40>, <docx.text.paragraph.Paragraph object at 0x0000011608CDFFA0>, <docx.text.paragraph.Paragraph object at 0x0000011608CE1040>, <docx.text.paragraph.Paragraph object at 0x0000011608CE10A0>, <docx.text.paragraph.Paragraph object at 0x0000011608CE1100>, <docx.text.paragraph.Paragraph object at 0x0000011608CE1160>, <docx.text.paragraph.Paragraph object at 0x0000011608CE11C0>, <docx.text.paragraph.Paragraph object at 0x0000011608CE1220>, <docx.text.paragraph.Paragraph object at 0x0000011608CE1280>, <docx.text.paragraph.Paragraph object at 0x0000011608CE12E0>, <docx.text.paragraph.Paragraph object at 0x0000011608CE1340>, <docx.text.paragraph.Paragraph object at 0x0000011608CE13A0>, <docx.text.paragraph.Paragraph object at 0x0000011608CE1400>, <docx.text.paragraph.Paragraph object at 0x0000011608CE1460>, <docx.text.paragraph.Paragraph object at 0x0000011608CE14C0>, <docx.text.paragraph.Paragraph object at 0x0000011608CE1520>, <docx.text.paragraph.Paragraph object at 0x0000011608CE1580>, <docx.text.paragraph.Paragraph object at 0x0000011608CE15E0>, <docx.text.paragraph.Paragraph object at 0x0000011608CE1640>, <docx.text.paragraph.Paragraph object at 0x0000011608CE16A0>, <docx.text.paragraph.Paragraph object at 0x0000011608CE1700>, <docx.text.paragraph.Paragraph object at 0x0000011608CE1760>, <docx.text.paragraph.Paragraph object at 0x0000011608CE17C0>, <docx.text.paragraph.Paragraph object at 0x0000011608CE1820>, <docx.text.paragraph.Paragraph object at 0x0000011608CE1880>, <docx.text.paragraph.Paragraph object at 0x0000011608CE18E0>, <docx.text.paragraph.Paragraph object at 0x0000011608CE1940>, <docx.text.paragraph.Paragraph object at 0x0000011608CE19A0>, <docx.text.paragraph.Paragraph object at 0x0000011608CE1A00>, <docx.text.paragraph.Paragraph object at 0x0000011608CE1A60>, <docx.text.paragraph.Paragraph object at 0x0000011608CE1AC0>, <docx.text.paragraph.Paragraph object at 0x0000011608CE1B20>, <docx.text.paragraph.Paragraph object at 0x0000011608CE1B80>, <docx.text.paragraph.Paragraph object at 0x0000011608CE1BE0>, <docx.text.paragraph.Paragraph object at 0x0000011608CE1C40>, <docx.text.paragraph.Paragraph object at 0x0000011608CE1CA0>, <docx.text.paragraph.Paragraph object at 0x0000011608CE1D00>, <docx.text.paragraph.Paragraph object at 0x0000011608CE1D60>, <docx.text.paragraph.Paragraph object at 0x0000011608CE1DC0>, <docx.text.paragraph.Paragraph object at 0x0000011608CE1E20>, <docx.text.paragraph.Paragraph object at 0x0000011608CE1E80>, <docx.text.paragraph.Paragraph object at 0x0000011608CE1EE0>, <docx.text.paragraph.Paragraph object at 0x0000011608CE1F40>, <docx.text.paragraph.Paragraph object at 0x0000011608CE1FA0>, <docx.text.paragraph.Paragraph object at 0x0000011608CE3040>, <docx.text.paragraph.Paragraph object at 0x0000011608CE30A0>, <docx.text.paragraph.Paragraph object at 0x0000011608CE3100>, <docx.text.paragraph.Paragraph object at 0x0000011608CE3160>, <docx.text.paragraph.Paragraph object at 0x0000011608CE31C0>, <docx.text.paragraph.Paragraph object at 0x0000011608CE31F0>, <docx.text.paragraph.Paragraph object at 0x0000011608CE3250>, <docx.text.paragraph.Paragraph object at 0x0000011608CE32B0>, <docx.text.paragraph.Paragraph object at 0x0000011608CE3310>, <docx.text.paragraph.Paragraph object at 0x0000011608CE3370>, <docx.text.paragraph.Paragraph object at 0x0000011608CE33D0>, <docx.text.paragraph.Paragraph object at 0x0000011608CE3430>, <docx.text.paragraph.Paragraph object at 0x0000011608CE3490>]\n",
      "python programming: shorthand if, loop\n",
      "Date: 01-02-2021\n",
      "--------------------------- \n",
      "shorthand if statement:\n",
      "------------------------ \n",
      "we can write if statement in same line:\n",
      "ex:\n",
      "a=100; b=20\n",
      "if(a>b): print(\"%d is big\"%a)\n",
      "\n",
      "--------------------------- \n",
      "shorthand if and else statement:\n",
      "------------------------ \n",
      "we can write if statement in same line:\n",
      "\n",
      "#ex2:\n",
      "a,b=input(\"enter 2 no\").split(\" \",2)\n",
      "a=int(a); b=int(b);\n",
      "print(\"%d is big\"%a) if(a>b) else print(\"%d is big\"%b)\n",
      "'''\n",
      "#ex3: find greatest among 3 numbers using shorthand if else \n",
      "a,b,c=input(\"enter 3 no\").split(\" \",3)\n",
      "a=int(a); b=int(b);c=int(c);\n",
      "print(\"greatest \",a) if(a>b and a>c) else print(\"greatest \",b) if(b>c) else print(\"greatest \",c)\n",
      "\n",
      "Nested if:\n",
      "Nested if:\n",
      "When we write an if statement inside another if then it is called nested if.\n",
      "Syntax:\n",
      "if(condition1):\n",
      "\tif(condition2):\n",
      "\t\tstatement block1\n",
      "\telse:\n",
      "\t\tstatement block2\n",
      "\n",
      "ex1: check a number is +ve, -ve or zero\n",
      "n=int(input(“enter a number”))\n",
      "if(n>=0):\n",
      "\tif(n==0):\n",
      "\t\tprint(“zero”)\n",
      "else:\n",
      "\t\tprint(“positive number”)\n",
      "else:\n",
      "\tprint(“negative number”)\n",
      "\n",
      "\n",
      "ex2:check for leap year or not?\n",
      "year=int(input(“enter the year”))\n",
      "if(year%4==0):\n",
      "\tif(year%100==0):\n",
      "\t\tif(year%400==0):\n",
      "\t\t\tprint(“{0} leap year” .format(year))\n",
      "\t\telse:\n",
      "\t\t\tprint(“{0} not a leap year” .format(year))\n",
      "\telse:\n",
      "\t\tprint(“{0} leap year” .format(year))\n",
      "else:\n",
      "\tprint(“{0} not a leap year” .format(year))\n",
      "\n",
      "Questions:\n",
      "1) Find the greatest among 3 numbers using nested if.\n",
      "2) Find the roots of a quadratic equation when the coefficient values are given.\n",
      "\n",
      "Python Loops:\n",
      "It is having two loop controls. \n",
      "They are:\n",
      "While loop\n",
      "For loop\n",
      "*Note: Python doesn't have do-while loop. \n",
      "\n",
      "While loop: We can execute a set of statements as long as the condition is true.\n",
      "Syntax:\n",
      "while(condition):\n",
      "\tstatement block\n",
      "ex1:\n",
      "i=1\n",
      "while(i<=10):\n",
      "print(i)\n",
      "i=i+1\n",
      "\n",
      "ex2:\n",
      "i=1\n",
      "while(i<=10):\n",
      "\tprint(i)\n",
      "\ti+=2\n",
      "\n",
      "#ex3: print \"good morning repeatedly\n",
      "i=1 \n",
      "while(i<=len(\"Morning\")):\n",
      "    print(\"Good morning\")\n",
      "    i=i+1\n",
      "\n",
      "ex4:\n",
      "Generate multiplication table?\n",
      "i=1\n",
      "n=int(input(“enter a no”))\n",
      "while(i<=10):\n",
      "\tprint(“%d X %d = %d \\n” %(n,i,n*i))\n",
      "\ti+=1\n",
      "\n",
      "ex5:\n",
      "# prints all letters except 'o' and 'l'   \n",
      "i = 0  \n",
      "str1 = 'Good Morning to All'  \n",
      "  \n",
      "while i < len(str1):   \n",
      "    if str1[i] == 'o' or str1[i] == 'l':   \n",
      "        i += 1  \n",
      "        continue  \n",
      "    print('Current Letter :', a[i])   \n",
      "    i += 1  \n",
      "\n",
      "infinite loops:\n",
      "if the condition given in while will never become false then it will never terminate.\n",
      "Ex1:\n",
      "while(1):\n",
      "\tprint(“never ends”)\n",
      "ex2:\n",
      "v=2\n",
      "while(v!=3):\n",
      "\ti=int(input(“enter a no”))\n",
      "\tprint(“the no is %d” %(i))\n",
      "\n",
      "#ex3\n",
      "'''\n",
      "i=1;\n",
      "while(i):\n",
      "    print(\"hello\")\n",
      "\n",
      "#ex4:\n",
      "while(20):\n",
      "    print(\"hi\")\n",
      "\n",
      "#The Loop which will not execute:\n",
      "#ex:\n",
      "i=1;\n",
      "while(i!=1):\n",
      "    print(\"bye\")\n",
      "\n",
      "while(0):\n",
      "    print(\"see u\")\n",
      "\n",
      "#use of else in while loop:\n",
      "In python we use else keyword along with any loop control. \n",
      "when the loop control terminates during\n",
      "condition is FALSE, then automatically the else block will be executed.\n",
      "'''\n",
      "#ex1\n",
      "i=100 \n",
      "while(i<=10):\n",
      "    print(i);\n",
      "    i=i+1\n",
      "else:\n",
      "    print(\"It is already out of range(1 to 10)\")    \n",
      "\n"
     ]
    }
   ],
   "source": [
    "# Example Program\n",
    "from docx import Document\n",
    "doc = Document(\"fppclass.docx\") # Path of the Docx file\n",
    "print(doc.paragraphs) # Prints the list of Paragraph objects for a Document\n",
    "for paragraph in doc.paragraphs:\n",
    "    print(paragraph.text) # Prints the text in the paragraph"
   ]
  },
  {
   "cell_type": "markdown",
   "id": "def76ab0",
   "metadata": {},
   "source": [
    "#### 8. What type of object has bold, underline, italic, strike, and outline variables?\n",
    "**Ans:** **`Run`**  object has bold, underline, italic, strike, and outline variables. The text in a Word document is more than just a string. It has font, size, color, and other styling information associated with it.\n",
    "\n",
    "A style in Word is a collection of these attributes. A Run object is a contiguous run of text with the same style. A new Run object is needed whenever the text style changes."
   ]
  },
  {
   "cell_type": "markdown",
   "id": "2207362c",
   "metadata": {},
   "source": [
    "#### 9. What is the difference between False, True, and None for the bold variable?"
   ]
  },
  {
   "cell_type": "code",
   "execution_count": 43,
   "id": "5ba61f64",
   "metadata": {},
   "outputs": [],
   "source": [
    "bold = True  # Style Set to Bold\n",
    "bold = False # Style Not Set to Bold\n",
    "bold = None # Style is Not Applicable"
   ]
  },
  {
   "cell_type": "markdown",
   "id": "6f6cb9f3",
   "metadata": {},
   "source": [
    "#### 10. How do you create a Document object for a new Word document?"
   ]
  },
  {
   "cell_type": "code",
   "execution_count": 44,
   "id": "be6b1a60",
   "metadata": {},
   "outputs": [],
   "source": [
    "# Example Program\n",
    "from docx import Document\n",
    "document = Document()\n",
    "document.add_paragraph(\"iNeuron Full Stack DataScience Course\")\n",
    "document.save('fppclass.docx')"
   ]
  },
  {
   "cell_type": "markdown",
   "id": "0602f937",
   "metadata": {},
   "source": [
    "#### 11. How do you add a paragraph with the text 'Hello, there!' to a Document object stored in a variable named doc?"
   ]
  },
  {
   "cell_type": "code",
   "execution_count": 45,
   "id": "9fdaa555",
   "metadata": {},
   "outputs": [],
   "source": [
    "# Example Program\n",
    "from docx import Document\n",
    "doc = Document()\n",
    "doc.add_paragraph('Hello, there!')\n",
    "doc.save('hello.docx')"
   ]
  },
  {
   "cell_type": "markdown",
   "id": "7d18fc9e",
   "metadata": {},
   "source": [
    "#### 12. What integers represent the levels of headings available in Word documents?\n",
    "**Ans:** The levels for a heading in a word document can be specified by using the **`level`** attribute inside the **`add_heading`** method. There are a total of 5 levels statring for 0 t0 4. where level 0 makes a headline with the horizontal line below the text, whereas the heading level 1 is the main heading. Similarly, the other headings are sub-heading with their's font-sizes in decreasing order."
   ]
  },
  {
   "cell_type": "code",
   "execution_count": null,
   "id": "edc5801e",
   "metadata": {},
   "outputs": [],
   "source": []
  }
 ],
 "metadata": {
  "kernelspec": {
   "display_name": "Python 3 (ipykernel)",
   "language": "python",
   "name": "python3"
  },
  "language_info": {
   "codemirror_mode": {
    "name": "ipython",
    "version": 3
   },
   "file_extension": ".py",
   "mimetype": "text/x-python",
   "name": "python",
   "nbconvert_exporter": "python",
   "pygments_lexer": "ipython3",
   "version": "3.8.0"
  }
 },
 "nbformat": 4,
 "nbformat_minor": 5
}
