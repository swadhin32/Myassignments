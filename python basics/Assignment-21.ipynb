{
 "cells": [
  {
   "cell_type": "markdown",
   "id": "8edea71a",
   "metadata": {},
   "source": [
    "#### 1. Add the current date to the text file today.txt as a string."
   ]
  },
  {
   "cell_type": "code",
   "execution_count": 3,
   "id": "e4b5643b",
   "metadata": {},
   "outputs": [
    {
     "name": "stdout",
     "output_type": "stream",
     "text": [
      "22-07-2022\n"
     ]
    }
   ],
   "source": [
    "import datetime\n",
    "file = open('today.txt','w')\n",
    "file.write(datetime.datetime.now().strftime(\"%d-%m-%Y\"))\n",
    "file.close()\n",
    "file = open(\"today.txt\",'r')\n",
    "print(file.read())\n",
    "file.close()"
   ]
  },
  {
   "cell_type": "markdown",
   "id": "b78a4719",
   "metadata": {},
   "source": [
    "#### 2. Read the text file today.txt into the string today_string"
   ]
  },
  {
   "cell_type": "code",
   "execution_count": 4,
   "id": "678bcaad",
   "metadata": {},
   "outputs": [
    {
     "name": "stdout",
     "output_type": "stream",
     "text": [
      "22-07-2022\n"
     ]
    }
   ],
   "source": [
    "file = open(\"today.txt\",'r')\n",
    "today_string = file.read()\n",
    "print(today_string)"
   ]
  },
  {
   "cell_type": "markdown",
   "id": "9df01093",
   "metadata": {},
   "source": [
    "#### 3. Parse the date from today_string."
   ]
  },
  {
   "cell_type": "code",
   "execution_count": 5,
   "id": "29f6fc2b",
   "metadata": {},
   "outputs": [
    {
     "name": "stdout",
     "output_type": "stream",
     "text": [
      "2022-07-22 00:00:00\n"
     ]
    }
   ],
   "source": [
    "from datetime import datetime\n",
    "parsed_data = datetime.strptime(today_string, '%d-%m-%Y')\n",
    "print(parsed_data)"
   ]
  },
  {
   "cell_type": "markdown",
   "id": "21c4b1b4",
   "metadata": {},
   "source": [
    "#### 4. List the files in your current directory"
   ]
  },
  {
   "cell_type": "code",
   "execution_count": 6,
   "id": "6c557e7b",
   "metadata": {},
   "outputs": [
    {
     "name": "stdout",
     "output_type": "stream",
     "text": [
      "application_log.txt\n",
      "Assignment-02.ipynb\n",
      "Assignment-03.ipynb\n",
      "Assignment-04.ipynb\n",
      "Assignment-05.ipynb\n",
      "Assignment-06.ipynb\n",
      "Assignment-07 Regex.ipynb\n",
      "Assignment-08.ipynb\n",
      "Assignment-09.ipynb\n",
      "Assignment-10.ipynb\n",
      "Assignment-11.ipynb\n",
      "Assignment-12.ipynb\n",
      "Assignment-13.ipynb\n",
      "Assignment-14.ipynb\n",
      "Assignment-15.ipynb\n",
      "Assignment-16.ipynb\n",
      "Assignment-17.ipynb\n",
      "Assignment-18.ipynb\n",
      "Assignment-19.ipynb\n",
      "Assignment-20 working with sql.ipynb\n",
      "Assignment-21.ipynb\n",
      "assignment_01.ipynb\n",
      "books.csv\n",
      "books.db\n",
      "fppclass.docx\n",
      "hello.docx\n",
      "ml_tutorialpoint.pdf\n",
      "myresume.pdf\n",
      "pic2.jpg\n",
      "test.txt\n",
      "today.txt\n",
      "train.csv\n",
      "university_records.csv\n",
      "Untitled.ipynb\n",
      "Assignment-02-checkpoint.ipynb\n",
      "Assignment-03-checkpoint.ipynb\n",
      "Assignment-04-checkpoint.ipynb\n",
      "Assignment-05-checkpoint.ipynb\n",
      "Assignment-06-checkpoint.ipynb\n",
      "Assignment-07 Regex-checkpoint.ipynb\n",
      "Assignment-08-checkpoint.ipynb\n",
      "Assignment-09-checkpoint.ipynb\n",
      "Assignment-10-checkpoint.ipynb\n",
      "Assignment-11-checkpoint.ipynb\n",
      "Assignment-12-checkpoint.ipynb\n",
      "Assignment-13-checkpoint.ipynb\n",
      "Assignment-14-checkpoint.ipynb\n",
      "Assignment-15-checkpoint.ipynb\n",
      "Assignment-16-checkpoint.ipynb\n",
      "Assignment-17-checkpoint.ipynb\n",
      "Assignment-18-checkpoint.ipynb\n",
      "Assignment-19-checkpoint.ipynb\n",
      "Assignment-20 working with sql-checkpoint.ipynb\n",
      "Assignment-21-checkpoint.ipynb\n",
      "Untitled-checkpoint.ipynb\n",
      "krish.jpg\n",
      "krish.jpg\n"
     ]
    }
   ],
   "source": [
    "import os\n",
    "for folders, subfolders, files in os.walk(os.getcwd()):\n",
    "    for file in files:\n",
    "        print(file)"
   ]
  },
  {
   "cell_type": "markdown",
   "id": "cd16c304",
   "metadata": {},
   "source": [
    "#### 5. Create a list of all of the files in your parent directory (minimum five files should be available)."
   ]
  },
  {
   "cell_type": "code",
   "execution_count": 7,
   "id": "2c296eab",
   "metadata": {},
   "outputs": [
    {
     "data": {
      "text/plain": [
       "['.ipynb_checkpoints',\n",
       " 'application_log.txt',\n",
       " 'Assignment-02.ipynb',\n",
       " 'Assignment-03.ipynb',\n",
       " 'Assignment-04.ipynb',\n",
       " 'Assignment-05.ipynb',\n",
       " 'Assignment-06.ipynb',\n",
       " 'Assignment-07 Regex.ipynb',\n",
       " 'Assignment-08.ipynb',\n",
       " 'Assignment-09.ipynb',\n",
       " 'Assignment-10.ipynb',\n",
       " 'Assignment-11.ipynb',\n",
       " 'Assignment-12.ipynb',\n",
       " 'Assignment-13.ipynb',\n",
       " 'Assignment-14.ipynb',\n",
       " 'Assignment-15.ipynb',\n",
       " 'Assignment-16.ipynb',\n",
       " 'Assignment-17.ipynb',\n",
       " 'Assignment-18.ipynb',\n",
       " 'Assignment-19.ipynb',\n",
       " 'Assignment-20 working with sql.ipynb',\n",
       " 'Assignment-21.ipynb',\n",
       " 'assignment_01.ipynb',\n",
       " 'books.csv',\n",
       " 'books.db',\n",
       " 'Dummy Dest',\n",
       " 'Dummy Src',\n",
       " 'fppclass.docx',\n",
       " 'hello.docx',\n",
       " 'ml_tutorialpoint.pdf',\n",
       " 'myresume.pdf',\n",
       " 'pic2.jpg',\n",
       " 'test.txt',\n",
       " 'today.txt',\n",
       " 'train.csv',\n",
       " 'university_records.csv',\n",
       " 'Untitled.ipynb']"
      ]
     },
     "execution_count": 7,
     "metadata": {},
     "output_type": "execute_result"
    }
   ],
   "source": [
    "import os \n",
    "os.listdir()"
   ]
  },
  {
   "cell_type": "markdown",
   "id": "8f685bbf",
   "metadata": {},
   "source": [
    "#### 6. Use multiprocessing to create three separate processes. Make each one wait a random number of seconds between one and five, print the current time, and then exit."
   ]
  },
  {
   "cell_type": "code",
   "execution_count": 8,
   "id": "4a6c89ce",
   "metadata": {},
   "outputs": [],
   "source": [
    "import multiprocessing\n",
    "import time \n",
    "import random\n",
    "import datetime\n",
    "\n",
    "def procOne():\n",
    "    print(f'Proc_one_Starttime -> {datetime.datetime.now()}')\n",
    "    time.sleep(random.randint(1,5))\n",
    "    print(f'Proc_one_Endtime -> {datetime.datetime.now()}')\n",
    "    \n",
    "def procTwo():\n",
    "    print(f'Proc_two_Starttime -> {datetime.datetime.now()}')\n",
    "    time.sleep(random.randint(1,5))\n",
    "    print(f'Proc_two_Endtime -> {datetime.datetime.now()}')\n",
    "\n",
    "def procThree():\n",
    "    print(f'Proc_two_Starttime -> {datetime.datetime.now()}')\n",
    "    time.sleep(random.randint(1,5))\n",
    "    print(f'Proc_two_Endtime -> {datetime.datetime.now()}')\n",
    "    \n",
    "if __name__ == \"__main__\":    \n",
    "    p1 = multiprocessing.Process(target=procOne)\n",
    "    p2 = multiprocessing.Process(target=procTwo)\n",
    "    p3 = multiprocessing.Process(target=procThree)\n",
    "\n",
    "    p1.start()\n",
    "    p2.start()\n",
    "    p3.start()\n",
    "\n",
    "    p1.join()\n",
    "    p2.join()\n",
    "    p3.join()"
   ]
  },
  {
   "cell_type": "markdown",
   "id": "a9cd60d3",
   "metadata": {},
   "source": [
    "#### 7. Create a date object of your day of birth."
   ]
  },
  {
   "cell_type": "code",
   "execution_count": 9,
   "id": "fa36aeeb",
   "metadata": {},
   "outputs": [
    {
     "name": "stdout",
     "output_type": "stream",
     "text": [
      "1997-04-22 00:00:00 <class 'datetime.datetime'>\n"
     ]
    }
   ],
   "source": [
    "from datetime import datetime\n",
    "my_dob = datetime.strptime('22/04/1997','%d/%m/%Y')\n",
    "print(my_dob, type(my_dob))"
   ]
  },
  {
   "cell_type": "markdown",
   "id": "76567468",
   "metadata": {},
   "source": [
    "#### 8. What day of the week was your day of birth?"
   ]
  },
  {
   "cell_type": "code",
   "execution_count": 10,
   "id": "4cba75fd",
   "metadata": {},
   "outputs": [
    {
     "data": {
      "text/plain": [
       "'Tuesday'"
      ]
     },
     "execution_count": 10,
     "metadata": {},
     "output_type": "execute_result"
    }
   ],
   "source": [
    "from datetime import datetime\n",
    "my_dob = datetime(1997,4,22)\n",
    "my_dob.strftime(\"%A\")"
   ]
  },
  {
   "cell_type": "markdown",
   "id": "86dcdf7b",
   "metadata": {},
   "source": [
    "#### 9. When will you be (or when were you) 10,000 days old?"
   ]
  },
  {
   "cell_type": "code",
   "execution_count": 11,
   "id": "8ea6a2bd",
   "metadata": {},
   "outputs": [
    {
     "data": {
      "text/plain": [
       "datetime.datetime(1969, 12, 5, 0, 0)"
      ]
     },
     "execution_count": 11,
     "metadata": {},
     "output_type": "execute_result"
    }
   ],
   "source": [
    "from datetime import datetime, timedelta\n",
    "my_dob = datetime.strptime(\"22/04/1997\",'%d/%m/%Y')\n",
    "future_date = my_dob-timedelta(10000)\n",
    "future_date"
   ]
  },
  {
   "cell_type": "code",
   "execution_count": null,
   "id": "760bf1a7",
   "metadata": {},
   "outputs": [],
   "source": []
  }
 ],
 "metadata": {
  "kernelspec": {
   "display_name": "Python 3 (ipykernel)",
   "language": "python",
   "name": "python3"
  },
  "language_info": {
   "codemirror_mode": {
    "name": "ipython",
    "version": 3
   },
   "file_extension": ".py",
   "mimetype": "text/x-python",
   "name": "python",
   "nbconvert_exporter": "python",
   "pygments_lexer": "ipython3",
   "version": "3.8.0"
  }
 },
 "nbformat": 4,
 "nbformat_minor": 5
}
