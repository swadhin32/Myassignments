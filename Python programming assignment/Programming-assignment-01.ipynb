{
 "cells": [
  {
   "cell_type": "markdown",
   "id": "f8bae6b4",
   "metadata": {},
   "source": [
    "#### 1.Write a Python program to print 'Hello Python' ?"
   ]
  },
  {
   "cell_type": "code",
   "execution_count": 1,
   "id": "f2c75e57",
   "metadata": {},
   "outputs": [
    {
     "name": "stdout",
     "output_type": "stream",
     "text": [
      "Hello Python\n"
     ]
    }
   ],
   "source": [
    "print(\"Hello Python\")"
   ]
  },
  {
   "cell_type": "markdown",
   "id": "8a622961",
   "metadata": {},
   "source": [
    "#### 2.Write a Python program to do arithmetic operations addition and division ?"
   ]
  },
  {
   "cell_type": "code",
   "execution_count": 13,
   "id": "8ffeda8d",
   "metadata": {},
   "outputs": [
    {
     "name": "stdout",
     "output_type": "stream",
     "text": [
      "Enter first num5\n",
      "Enter second num3\n",
      "press 'a' to add 'd' to divide\n",
      "d\n",
      "1.6666666666666667\n",
      "Invalid Input\n"
     ]
    }
   ],
   "source": [
    "x = int(input(\"Enter first num\"))\n",
    "y = int(input(\"Enter second num\"))\n",
    "print(\"press 'a' to add 'd' to divide\")\n",
    "op = input()\n",
    "if op=='a':\n",
    "    print(x+y)\n",
    "if op=='d':\n",
    "    print(x/y)\n",
    "if op!='a' and op!='b':\n",
    "    print(\"Invalid Input\")"
   ]
  },
  {
   "cell_type": "markdown",
   "id": "bdc2cfac",
   "metadata": {},
   "source": [
    "#### 3.Write a Python program to find the area of a triangle ?"
   ]
  },
  {
   "cell_type": "code",
   "execution_count": 16,
   "id": "3b5ef743",
   "metadata": {},
   "outputs": [
    {
     "name": "stdout",
     "output_type": "stream",
     "text": [
      "Enter height of triangle in cm: 100\n",
      "Enter base of triangle in cm: 20\n",
      "\n",
      "Area of triangle is 1000.0 sq.cm\n"
     ]
    }
   ],
   "source": [
    "height = int(input('Enter height of triangle in cm: '))\n",
    "base = int(input('Enter base of triangle in cm: '))\n",
    "\n",
    "def areaOfTriangle(height, base):\n",
    "    print('\\nArea of triangle is', 0.5*height*base, 'sq.cm')\n",
    "\n",
    "areaOfTriangle(height,base)"
   ]
  },
  {
   "cell_type": "markdown",
   "id": "57939d62",
   "metadata": {},
   "source": [
    "#### 4.Write a Python program to swap two variables ?"
   ]
  },
  {
   "cell_type": "code",
   "execution_count": 22,
   "id": "6bc5b965",
   "metadata": {},
   "outputs": [
    {
     "name": "stdout",
     "output_type": "stream",
     "text": [
      "Enter First Number: 5\n",
      "Enter Second Number: 6\n",
      "Before swapping ->  5 6\n",
      "After swapping ->  6 5\n"
     ]
    }
   ],
   "source": [
    "num_1 = int(input(\"Enter First Number: \"))\n",
    "num_2 = int(input(\"Enter Second Number: \"))\n",
    "\n",
    "def swapNumbers(a,b):\n",
    "    temp = a\n",
    "    a = b\n",
    "    b = temp\n",
    "    return a,b\n",
    "\n",
    "print('Before swapping -> ',num_1, num_2)\n",
    "num_1, num_2 = swapNumbers(num_1, num_2)\n",
    "print('After swapping -> ',num_1,num_2)\n",
    "\n",
    "   "
   ]
  },
  {
   "cell_type": "markdown",
   "id": "1a644c84",
   "metadata": {},
   "source": [
    "#### 5.Write a Python program to generate a random number ?"
   ]
  },
  {
   "cell_type": "code",
   "execution_count": 23,
   "id": "e616a6ce",
   "metadata": {},
   "outputs": [
    {
     "name": "stdout",
     "output_type": "stream",
     "text": [
      "Random number ->  98029\n",
      "Random number ->  87\n"
     ]
    }
   ],
   "source": [
    "from random import randint\n",
    "\n",
    "def generateRandomNumber(start=0, end=100000):\n",
    "    print('Random number -> ',randint(start,end))\n",
    "\n",
    "# Generating random numbers without arguments    \n",
    "generateRandomNumber()\n",
    "\n",
    "# Generating random numbers with arguments    \n",
    "generateRandomNumber(0,100)"
   ]
  },
  {
   "cell_type": "code",
   "execution_count": null,
   "id": "810842a3",
   "metadata": {},
   "outputs": [],
   "source": []
  }
 ],
 "metadata": {
  "kernelspec": {
   "display_name": "Python 3 (ipykernel)",
   "language": "python",
   "name": "python3"
  },
  "language_info": {
   "codemirror_mode": {
    "name": "ipython",
    "version": 3
   },
   "file_extension": ".py",
   "mimetype": "text/x-python",
   "name": "python",
   "nbconvert_exporter": "python",
   "pygments_lexer": "ipython3",
   "version": "3.8.0"
  }
 },
 "nbformat": 4,
 "nbformat_minor": 5
}
